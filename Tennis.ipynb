{
 "cells": [
  {
   "cell_type": "markdown",
   "metadata": {},
   "source": [
    "# Collaboration and Competition\n",
    "\n",
    "---\n",
    "\n",
    "In this notebook, you will learn how to use the Unity ML-Agents environment for the third project of the [Deep Reinforcement Learning Nanodegree](https://www.udacity.com/course/deep-reinforcement-learning-nanodegree--nd893) program.\n",
    "\n",
    "### 1. Start the Environment\n",
    "\n",
    "We begin by importing the necessary packages.  If the code cell below returns an error, please revisit the project instructions to double-check that you have installed [Unity ML-Agents](https://github.com/Unity-Technologies/ml-agents/blob/master/docs/Installation.md) and [NumPy](http://www.numpy.org/)."
   ]
  },
  {
   "cell_type": "code",
   "execution_count": 1,
   "metadata": {},
   "outputs": [
    {
     "name": "stdout",
     "output_type": "stream",
     "text": [
      "\u001b[31mtensorflow 1.7.1 has requirement numpy>=1.13.3, but you'll have numpy 1.12.1 which is incompatible.\u001b[0m\r\n",
      "\u001b[31mipython 6.5.0 has requirement prompt-toolkit<2.0.0,>=1.0.15, but you'll have prompt-toolkit 3.0.13 which is incompatible.\u001b[0m\r\n"
     ]
    }
   ],
   "source": [
    "# if you are using the workspace given by Udacity\n",
    "!pip -q install ./python"
   ]
  },
  {
   "cell_type": "code",
   "execution_count": 2,
   "metadata": {
    "pycharm": {
     "is_executing": false
    }
   },
   "outputs": [],
   "source": [
    "from unityagents import UnityEnvironment\n",
    "import numpy as np"
   ]
  },
  {
   "cell_type": "markdown",
   "metadata": {},
   "source": [
    "Next, we will start the environment!  **_Before running the code cell below_**, change the `file_name` parameter to match the location of the Unity environment that you downloaded.\n",
    "\n",
    "- **Mac**: `\"path/to/Tennis.app\"`\n",
    "- **Windows** (x86): `\"path/to/Tennis_Windows_x86/Tennis.exe\"`\n",
    "- **Windows** (x86_64): `\"path/to/Tennis_Windows_x86_64/Tennis.exe\"`\n",
    "- **Linux** (x86): `\"path/to/Tennis_Linux/Tennis.x86\"`\n",
    "- **Linux** (x86_64): `\"path/to/Tennis_Linux/Tennis.x86_64\"`\n",
    "- **Linux** (x86, headless): `\"path/to/Tennis_Linux_NoVis/Tennis.x86\"`\n",
    "- **Linux** (x86_64, headless): `\"path/to/Tennis_Linux_NoVis/Tennis.x86_64\"`\n",
    "\n",
    "For instance, if you are using a Mac, then you downloaded `Tennis.app`.  If this file is in the same folder as the notebook, then the line below should appear as follows:\n",
    "```\n",
    "env = UnityEnvironment(file_name=\"Tennis.app\")\n",
    "```"
   ]
  },
  {
   "cell_type": "code",
   "execution_count": 3,
   "metadata": {
    "pycharm": {
     "is_executing": false
    }
   },
   "outputs": [
    {
     "name": "stderr",
     "output_type": "stream",
     "text": [
      "INFO:unityagents:\n",
      "'Academy' started successfully!\n",
      "Unity Academy name: Academy\n",
      "        Number of Brains: 1\n",
      "        Number of External Brains : 1\n",
      "        Lesson number : 0\n",
      "        Reset Parameters :\n",
      "\t\t\n",
      "Unity brain name: TennisBrain\n",
      "        Number of Visual Observations (per agent): 0\n",
      "        Vector Observation space type: continuous\n",
      "        Vector Observation space size (per agent): 8\n",
      "        Number of stacked Vector Observation: 3\n",
      "        Vector Action space type: continuous\n",
      "        Vector Action space size (per agent): 2\n",
      "        Vector Action descriptions: , \n"
     ]
    }
   ],
   "source": [
    "# env = UnityEnvironment(file_name=\"./environments/Tennis_Linux/Tennis.x86_64\")\n",
    "# env = UnityEnvironment(file_name=\"./environments/Tennis_Linux_NoVis/Tennis.x86_64\")\n",
    "\n",
    "# for Udacity workspace\n",
    "env = UnityEnvironment(file_name=\"/data/Tennis_Linux_NoVis/Tennis\")"
   ]
  },
  {
   "cell_type": "markdown",
   "metadata": {},
   "source": [
    "Environments contain **_brains_** which are responsible for deciding the actions of their associated agents. Here we check for the first brain available, and set it as the default brain we will be controlling from Python."
   ]
  },
  {
   "cell_type": "code",
   "execution_count": 4,
   "metadata": {
    "pycharm": {
     "is_executing": false
    }
   },
   "outputs": [],
   "source": [
    "# get the default brain\n",
    "brain_name = env.brain_names[0]\n",
    "brain = env.brains[brain_name]"
   ]
  },
  {
   "cell_type": "markdown",
   "metadata": {},
   "source": [
    "### 2. Examine the State and Action Spaces\n",
    "\n",
    "In this environment, two agents control rackets to bounce a ball over a net. If an agent hits the ball over the net, it receives a reward of +0.1.  If an agent lets a ball hit the ground or hits the ball out of bounds, it receives a reward of -0.01.  Thus, the goal of each agent is to keep the ball in play.\n",
    "\n",
    "The observation space consists of 8 variables corresponding to the position and velocity of the ball and racket. Two continuous actions are available, corresponding to movement toward (or away from) the net, and jumping. \n",
    "\n",
    "Run the code cell below to print some information about the environment."
   ]
  },
  {
   "cell_type": "code",
   "execution_count": 5,
   "metadata": {
    "pycharm": {
     "is_executing": false
    }
   },
   "outputs": [
    {
     "name": "stdout",
     "output_type": "stream",
     "text": [
      "Number of agents: 2\n",
      "Size of each action: 2\n",
      "There are 2 agents. Each observes a state with length: 24\n",
      "The state for the first agent looks like: [ 0.          0.          0.          0.          0.          0.          0.\n",
      "  0.          0.          0.          0.          0.          0.          0.\n",
      "  0.          0.         -6.65278625 -1.5        -0.          0.\n",
      "  6.83172083  6.         -0.          0.        ]\n"
     ]
    }
   ],
   "source": [
    "# reset the environment\n",
    "env_info = env.reset(train_mode=True)[brain_name]\n",
    "\n",
    "# number of agents \n",
    "num_agents = len(env_info.agents)\n",
    "print('Number of agents:', num_agents)\n",
    "\n",
    "# size of each action\n",
    "action_size = brain.vector_action_space_size\n",
    "print('Size of each action:', action_size)\n",
    "\n",
    "# examine the state space \n",
    "states = env_info.vector_observations\n",
    "state_size = states.shape[1]\n",
    "print('There are {} agents. Each observes a state with length: {}'.format(states.shape[0], state_size))\n",
    "print('The state for the first agent looks like:', states[0])"
   ]
  },
  {
   "cell_type": "markdown",
   "metadata": {},
   "source": [
    "### 3. Take Random Actions in the Environment\n",
    "\n",
    "In the next code cell, you will learn how to use the Python API to control the agents and receive feedback from the environment.\n",
    "\n",
    "Once this cell is executed, you will watch the agents' performance, if they select actions at random with each time step.  A window should pop up that allows you to observe the agents.\n",
    "\n",
    "Of course, as part of the project, you'll have to change the code so that the agents are able to use their experiences to gradually choose better actions when interacting with the environment!"
   ]
  },
  {
   "cell_type": "code",
   "execution_count": 6,
   "metadata": {
    "pycharm": {
     "is_executing": false
    }
   },
   "outputs": [
    {
     "name": "stdout",
     "output_type": "stream",
     "text": [
      "Score (max over agents) from episode 1: 0.10000000149011612\n",
      "Score (max over agents) from episode 2: 0.0\n",
      "Score (max over agents) from episode 3: 0.0\n",
      "Score (max over agents) from episode 4: 0.10000000149011612\n",
      "Score (max over agents) from episode 5: 0.0\n"
     ]
    }
   ],
   "source": [
    "for i in range(1, 6):                                      # play game for 5 episodes\n",
    "    env_info = env.reset(train_mode=False)[brain_name]     # reset the environment    \n",
    "    states = env_info.vector_observations                  # get the current state (for each agent)\n",
    "    scores = np.zeros(num_agents)                          # initialize the score (for each agent)\n",
    "    while True:\n",
    "        actions = np.random.randn(num_agents, action_size) # select an action (for each agent)\n",
    "        actions = np.clip(actions, -1, 1)                  # all actions between -1 and 1\n",
    "        env_info = env.step(actions)[brain_name]           # send all actions to tne environment\n",
    "        next_states = env_info.vector_observations         # get next state (for each agent)\n",
    "        rewards = env_info.rewards                         # get reward (for each agent)\n",
    "        dones = env_info.local_done                        # see if episode finished\n",
    "        scores += env_info.rewards                         # update the score (for each agent)\n",
    "        states = next_states                               # roll over states to next time step\n",
    "        if np.any(dones):                                  # exit loop if episode finished\n",
    "            break\n",
    "    print('Score (max over agents) from episode {}: {}'.format(i, np.max(scores)))"
   ]
  },
  {
   "cell_type": "markdown",
   "metadata": {},
   "source": [
    "### 4. Import packages"
   ]
  },
  {
   "cell_type": "code",
   "execution_count": 7,
   "metadata": {
    "pycharm": {
     "is_executing": false
    }
   },
   "outputs": [],
   "source": [
    "import matplotlib.pyplot as plt\n",
    "%matplotlib inline\n",
    "from collections import deque\n",
    "from ddpg_agent import Agent\n",
    "import torch\n",
    "import sys"
   ]
  },
  {
   "cell_type": "code",
   "execution_count": 8,
   "metadata": {
    "pycharm": {
     "is_executing": false
    }
   },
   "outputs": [],
   "source": [
    "agent_0 = Agent(state_size, action_size, 1, 0)\n",
    "agent_1 = Agent(state_size, action_size, 1, 0)"
   ]
  },
  {
   "cell_type": "code",
   "execution_count": 9,
   "metadata": {
    "pycharm": {
     "is_executing": false
    }
   },
   "outputs": [],
   "source": [
    "def maddpg(n_episodes=7500, max_t=1000, print_every=10, solved_score=0.5, moving_window_size=100):\n",
    "    \"\"\"Multi-Agent Deep Deterministic Policy Gradient (MADDPG)\n",
    "    \n",
    "    Params\n",
    "    ======\n",
    "        n_episodes (int)      : maximum number of training episodes\n",
    "        max_t (int)           : maximum number of timesteps per episode\n",
    "        print_every (int)     : interval to display results\n",
    "        solved_score (float)  : min avg score over consecutive episodes\n",
    "        moving_window_size (int) : number of consecutive episodes used to calculate score\n",
    "\n",
    "    \"\"\"\n",
    "    score_history = []  # score list\n",
    "    scores_deque = deque(maxlen=moving_window_size)  # scores of the most recent episodes\n",
    "    moving_averages = []  # list of moving averages\n",
    "\n",
    "    for episode_number in range(1, n_episodes + 1):\n",
    "        env_info = env.reset(train_mode=True)[brain_name]  # reset environment\n",
    "        states = np.reshape(env_info.vector_observations, (1, 48))  # get states and combine them\n",
    "        agent_0.reset()\n",
    "        agent_1.reset()\n",
    "        scores = np.zeros(num_agents)  # initialize score for each agent\n",
    "        while True:\n",
    "            # choose agent actions and combine them\n",
    "            action_0 = agent_0.act(states, add_noise=True)\n",
    "            action_1 = agent_1.act(states, add_noise=True)\n",
    "            actions = np.concatenate((action_0, action_1), axis=0).flatten()\n",
    "            env_info = env.step(actions)[brain_name]  # send both agents' actions together to the environment\n",
    "            next_states = np.reshape(env_info.vector_observations, (1, 48))  # merge the agent next states\n",
    "            rewards = env_info.rewards  # get rewards\n",
    "            done = env_info.local_done  # see if episode finished\n",
    "            agent_0.step(states, actions, rewards[0], next_states, done, 0)  # Agent 1 learns\n",
    "            agent_1.step(states, actions, rewards[1], next_states, done, 1)  # Agent 2 learns\n",
    "            scores += np.max(rewards)  # update the score for each agent\n",
    "            states = next_states  # roll over states to next time step\n",
    "            if np.any(done):  # exit loop if episode finished\n",
    "                break\n",
    "        ep_best_score = np.max(scores)\n",
    "        scores_deque.append(ep_best_score)\n",
    "        score_history.append(ep_best_score)\n",
    "        moving_averages.append(np.mean(scores_deque))\n",
    "\n",
    "        print(\"\\rEpisode {}/{} | Rolling average: {:.3f}\".format(episode_number, n_episodes, moving_averages[-1]), end=\"\")\n",
    "        if episode_number % print_every == 0:\n",
    "            print('')\n",
    "            sys.stdout.flush()\n",
    "        # Determine if the environment is solved and save models\n",
    "        if moving_averages[-1] >= solved_score and episode_number > moving_window_size:\n",
    "            print(\n",
    "                f'\\nEnvironment solved in {episode_number} episodes. \\tMoving Average ={moving_averages[-1]:.2f} over last {moving_window_size} episodes')\n",
    "            # Save the weights\n",
    "            torch.save(agent_0.actor_local.state_dict(), 'actor_0.pth')\n",
    "            torch.save(agent_0.critic_local.state_dict(), 'critic_0.pth')\n",
    "            torch.save(agent_1.actor_local.state_dict(), 'actor_1.pth')\n",
    "            torch.save(agent_1.critic_local.state_dict(), 'critic_1.pth')\n",
    "            break\n",
    "    return score_history, moving_averages"
   ]
  },
  {
   "cell_type": "code",
   "execution_count": 10,
   "metadata": {
    "pycharm": {
     "is_executing": false
    }
   },
   "outputs": [
    {
     "name": "stdout",
     "output_type": "stream",
     "text": [
      "Episode 10/7500 | Rolling average: 0.000\n",
      "Episode 20/7500 | Rolling average: 0.005\n",
      "Episode 30/7500 | Rolling average: 0.003\n",
      "Episode 40/7500 | Rolling average: 0.003\n",
      "Episode 50/7500 | Rolling average: 0.002\n",
      "Episode 60/7500 | Rolling average: 0.002\n",
      "Episode 70/7500 | Rolling average: 0.001\n",
      "Episode 80/7500 | Rolling average: 0.001\n",
      "Episode 90/7500 | Rolling average: 0.001\n",
      "Episode 100/7500 | Rolling average: 0.002\n",
      "Episode 110/7500 | Rolling average: 0.002\n",
      "Episode 120/7500 | Rolling average: 0.001\n",
      "Episode 130/7500 | Rolling average: 0.001\n",
      "Episode 140/7500 | Rolling average: 0.001\n",
      "Episode 150/7500 | Rolling average: 0.005\n",
      "Episode 160/7500 | Rolling average: 0.005\n",
      "Episode 170/7500 | Rolling average: 0.005\n",
      "Episode 180/7500 | Rolling average: 0.005\n",
      "Episode 190/7500 | Rolling average: 0.005\n",
      "Episode 200/7500 | Rolling average: 0.006\n",
      "Episode 210/7500 | Rolling average: 0.008\n",
      "Episode 220/7500 | Rolling average: 0.010\n",
      "Episode 230/7500 | Rolling average: 0.011\n",
      "Episode 240/7500 | Rolling average: 0.015\n",
      "Episode 250/7500 | Rolling average: 0.011\n",
      "Episode 260/7500 | Rolling average: 0.013\n",
      "Episode 270/7500 | Rolling average: 0.013\n",
      "Episode 280/7500 | Rolling average: 0.017\n",
      "Episode 290/7500 | Rolling average: 0.019\n",
      "Episode 300/7500 | Rolling average: 0.021\n",
      "Episode 310/7500 | Rolling average: 0.023\n",
      "Episode 320/7500 | Rolling average: 0.024\n",
      "Episode 330/7500 | Rolling average: 0.028\n",
      "Episode 340/7500 | Rolling average: 0.033\n",
      "Episode 350/7500 | Rolling average: 0.038\n",
      "Episode 360/7500 | Rolling average: 0.042\n",
      "Episode 370/7500 | Rolling average: 0.049\n",
      "Episode 380/7500 | Rolling average: 0.051\n",
      "Episode 390/7500 | Rolling average: 0.057\n",
      "Episode 400/7500 | Rolling average: 0.058\n",
      "Episode 410/7500 | Rolling average: 0.060\n",
      "Episode 420/7500 | Rolling average: 0.070\n",
      "Episode 430/7500 | Rolling average: 0.073\n",
      "Episode 440/7500 | Rolling average: 0.072\n",
      "Episode 450/7500 | Rolling average: 0.084\n",
      "Episode 460/7500 | Rolling average: 0.090\n",
      "Episode 470/7500 | Rolling average: 0.101\n",
      "Episode 480/7500 | Rolling average: 0.106\n",
      "Episode 490/7500 | Rolling average: 0.113\n",
      "Episode 500/7500 | Rolling average: 0.120\n",
      "Episode 510/7500 | Rolling average: 0.131\n",
      "Episode 520/7500 | Rolling average: 0.130\n",
      "Episode 530/7500 | Rolling average: 0.134\n",
      "Episode 540/7500 | Rolling average: 0.140\n",
      "Episode 550/7500 | Rolling average: 0.137\n",
      "Episode 560/7500 | Rolling average: 0.138\n",
      "Episode 570/7500 | Rolling average: 0.132\n",
      "Episode 580/7500 | Rolling average: 0.133\n",
      "Episode 590/7500 | Rolling average: 0.127\n",
      "Episode 600/7500 | Rolling average: 0.129\n",
      "Episode 610/7500 | Rolling average: 0.131\n",
      "Episode 620/7500 | Rolling average: 0.136\n",
      "Episode 630/7500 | Rolling average: 0.143\n",
      "Episode 640/7500 | Rolling average: 0.142\n",
      "Episode 650/7500 | Rolling average: 0.142\n",
      "Episode 660/7500 | Rolling average: 0.146\n",
      "Episode 670/7500 | Rolling average: 0.155\n",
      "Episode 680/7500 | Rolling average: 0.157\n",
      "Episode 690/7500 | Rolling average: 0.162\n",
      "Episode 700/7500 | Rolling average: 0.163\n",
      "Episode 710/7500 | Rolling average: 0.159\n",
      "Episode 720/7500 | Rolling average: 0.160\n",
      "Episode 730/7500 | Rolling average: 0.148\n",
      "Episode 740/7500 | Rolling average: 0.163\n",
      "Episode 750/7500 | Rolling average: 0.174\n",
      "Episode 760/7500 | Rolling average: 0.170\n",
      "Episode 770/7500 | Rolling average: 0.164\n",
      "Episode 780/7500 | Rolling average: 0.176\n",
      "Episode 790/7500 | Rolling average: 0.176\n",
      "Episode 800/7500 | Rolling average: 0.185\n",
      "Episode 810/7500 | Rolling average: 0.191\n",
      "Episode 820/7500 | Rolling average: 0.186\n",
      "Episode 830/7500 | Rolling average: 0.206\n",
      "Episode 840/7500 | Rolling average: 0.196\n",
      "Episode 850/7500 | Rolling average: 0.198\n",
      "Episode 860/7500 | Rolling average: 0.222\n",
      "Episode 870/7500 | Rolling average: 0.217\n",
      "Episode 880/7500 | Rolling average: 0.218\n",
      "Episode 890/7500 | Rolling average: 0.234\n",
      "Episode 900/7500 | Rolling average: 0.223\n",
      "Episode 910/7500 | Rolling average: 0.229\n",
      "Episode 920/7500 | Rolling average: 0.254\n",
      "Episode 930/7500 | Rolling average: 0.255\n",
      "Episode 940/7500 | Rolling average: 0.260\n",
      "Episode 950/7500 | Rolling average: 0.254\n",
      "Episode 960/7500 | Rolling average: 0.233\n",
      "Episode 970/7500 | Rolling average: 0.244\n",
      "Episode 980/7500 | Rolling average: 0.242\n",
      "Episode 990/7500 | Rolling average: 0.237\n",
      "Episode 1000/7500 | Rolling average: 0.241\n",
      "Episode 1010/7500 | Rolling average: 0.232\n",
      "Episode 1020/7500 | Rolling average: 0.211\n",
      "Episode 1030/7500 | Rolling average: 0.199\n",
      "Episode 1040/7500 | Rolling average: 0.190\n",
      "Episode 1050/7500 | Rolling average: 0.198\n",
      "Episode 1060/7500 | Rolling average: 0.205\n",
      "Episode 1070/7500 | Rolling average: 0.210\n",
      "Episode 1080/7500 | Rolling average: 0.210\n",
      "Episode 1090/7500 | Rolling average: 0.201\n",
      "Episode 1100/7500 | Rolling average: 0.206\n",
      "Episode 1110/7500 | Rolling average: 0.206\n",
      "Episode 1120/7500 | Rolling average: 0.202\n",
      "Episode 1130/7500 | Rolling average: 0.214\n",
      "Episode 1140/7500 | Rolling average: 0.219\n",
      "Episode 1150/7500 | Rolling average: 0.218\n",
      "Episode 1160/7500 | Rolling average: 0.220\n",
      "Episode 1170/7500 | Rolling average: 0.217\n",
      "Episode 1180/7500 | Rolling average: 0.223\n",
      "Episode 1190/7500 | Rolling average: 0.268\n",
      "Episode 1200/7500 | Rolling average: 0.313\n",
      "Episode 1210/7500 | Rolling average: 0.340\n",
      "Episode 1220/7500 | Rolling average: 0.354\n",
      "Episode 1230/7500 | Rolling average: 0.368\n",
      "Episode 1240/7500 | Rolling average: 0.407\n",
      "Episode 1250/7500 | Rolling average: 0.403\n",
      "Episode 1260/7500 | Rolling average: 0.401\n",
      "Episode 1270/7500 | Rolling average: 0.409\n",
      "Episode 1280/7500 | Rolling average: 0.414\n",
      "Episode 1290/7500 | Rolling average: 0.407\n",
      "Episode 1300/7500 | Rolling average: 0.375\n",
      "Episode 1310/7500 | Rolling average: 0.361\n",
      "Episode 1320/7500 | Rolling average: 0.382\n",
      "Episode 1330/7500 | Rolling average: 0.369\n",
      "Episode 1340/7500 | Rolling average: 0.347\n",
      "Episode 1350/7500 | Rolling average: 0.366\n",
      "Episode 1360/7500 | Rolling average: 0.373\n",
      "Episode 1370/7500 | Rolling average: 0.392\n",
      "Episode 1380/7500 | Rolling average: 0.373\n",
      "Episode 1390/7500 | Rolling average: 0.362\n",
      "Episode 1400/7500 | Rolling average: 0.439\n",
      "Episode 1410/7500 | Rolling average: 0.476\n",
      "Episode 1420/7500 | Rolling average: 0.516\n",
      "\n",
      "Environment solved in 1420 episodes. \tMoving Average =0.52 over last 100 episodes\n"
     ]
    }
   ],
   "source": [
    "score_history, moving_average = maddpg()"
   ]
  },
  {
   "cell_type": "code",
   "execution_count": 12,
   "metadata": {},
   "outputs": [
    {
     "data": {
      "image/png": "[encoded data removed]",
      "text/plain": [
       "<matplotlib.figure.Figure at 0x7fa190b34588>"
      ]
     },
     "metadata": {
      "needs_background": "light"
     },
     "output_type": "display_data"
    }
   ],
   "source": [
    "fig = plt.figure()\n",
    "ax = fig.add_subplot(111)\n",
    "plt.plot(np.arange(len(score_history)), score_history, label='MADDPG')\n",
    "plt.plot(np.arange(len(score_history)), moving_average, c='r', label='moving average')\n",
    "plt.ylabel('Score')\n",
    "plt.xlabel('Episode #')\n",
    "plt.legend(loc='upper left')\n",
    "fig.savefig(\"results.pdf\", bbox_inches='tight', dpi=400)\n",
    "plt.show()"
   ]
  },
  {
   "cell_type": "markdown",
   "metadata": {},
   "source": [
    "When finished, you can close the environment."
   ]
  },
  {
   "cell_type": "code",
   "execution_count": 9,
   "metadata": {
    "pycharm": {
     "name": "#%%\n"
    }
   },
   "outputs": [],
   "source": [
    "env.close()\n"
   ]
  }
 ],
 "metadata": {
  "kernelspec": {
   "display_name": "Python 3",
   "language": "python",
   "name": "python3"
  },
  "language_info": {
   "codemirror_mode": {
    "name": "ipython",
    "version": 3
   },
   "file_extension": ".py",
   "mimetype": "text/x-python",
   "name": "python",
   "nbconvert_exporter": "python",
   "pygments_lexer": "ipython3",
   "version": "3.6.3"
  },
  "pycharm": {
   "stem_cell": {
    "cell_type": "raw",
    "metadata": {
     "collapsed": false
    },
    "source": []
   }
  }
 },
 "nbformat": 4,
 "nbformat_minor": 2
}
